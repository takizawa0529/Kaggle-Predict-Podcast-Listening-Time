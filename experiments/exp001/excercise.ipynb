{
 "cells": [
  {
   "cell_type": "code",
   "execution_count": 2,
   "metadata": {},
   "outputs": [],
   "source": [
    "import sys\n",
    "sys.path.append(\"../../../\")\n",
    "\n",
    "from modules.acquire_data import DataAcquire\n",
    "from modules.analyze_data import analyze_data\n",
    "from modules.create_model import create_model\n",
    "\n",
    "da = DataAcquire()\n"
   ]
  },
  {
   "cell_type": "code",
   "execution_count": 1,
   "metadata": {},
   "outputs": [
    {
     "name": "stderr",
     "output_type": "stream",
     "text": [
      "/Users/takizawakeiya/Desktop/python/Takizawa-venv/lib/python3.9/site-packages/urllib3/__init__.py:35: NotOpenSSLWarning: urllib3 v2 only supports OpenSSL 1.1.1+, currently the 'ssl' module is compiled with 'LibreSSL 2.8.3'. See: https://github.com/urllib3/urllib3/issues/3020\n",
      "  warnings.warn(\n"
     ]
    }
   ],
   "source": [
    "import wandb"
   ]
  },
  {
   "cell_type": "code",
   "execution_count": 3,
   "metadata": {},
   "outputs": [
    {
     "name": "stderr",
     "output_type": "stream",
     "text": [
      "\u001b[34m\u001b[1mwandb\u001b[0m: Using wandb-core as the SDK backend.  Please refer to https://wandb.me/wandb-core for more information.\n",
      "\u001b[34m\u001b[1mwandb\u001b[0m: Logging into wandb.ai. (Learn how to deploy a W&B server locally: https://wandb.me/wandb-server)\n",
      "\u001b[34m\u001b[1mwandb\u001b[0m: You can find your API key in your browser here: https://wandb.ai/authorize\n",
      "\u001b[34m\u001b[1mwandb\u001b[0m: Paste an API key from your profile and hit enter:\u001b[34m\u001b[1mwandb\u001b[0m: \u001b[33mWARNING\u001b[0m If you're specifying your api key in code, ensure this code is not shared publicly.\n",
      "\u001b[34m\u001b[1mwandb\u001b[0m: \u001b[33mWARNING\u001b[0m Consider setting the WANDB_API_KEY environment variable, or running `wandb login` from the command line.\n",
      "\u001b[34m\u001b[1mwandb\u001b[0m: No netrc file found, creating one.\n",
      "\u001b[34m\u001b[1mwandb\u001b[0m: Appending key for api.wandb.ai to your netrc file: /Users/takizawakeiya/.netrc\n",
      "\u001b[34m\u001b[1mwandb\u001b[0m: Currently logged in as: \u001b[33mtkzw-0529\u001b[0m (\u001b[33mtkzw-0529-prudential-financial\u001b[0m) to \u001b[32mhttps://api.wandb.ai\u001b[0m. Use \u001b[1m`wandb login --relogin`\u001b[0m to force relogin\n"
     ]
    },
    {
     "data": {
      "text/plain": [
       "True"
      ]
     },
     "execution_count": 3,
     "metadata": {},
     "output_type": "execute_result"
    }
   ],
   "source": [
    "wandb.login()"
   ]
  },
  {
   "cell_type": "code",
   "execution_count": 4,
   "metadata": {},
   "outputs": [],
   "source": [
    "import os \n",
    "os.environ[\"WANDB_API_KEY\"] = \"d63df136f169bffa17486544a5339caee2aec09c\""
   ]
  },
  {
   "cell_type": "code",
   "execution_count": 5,
   "metadata": {},
   "outputs": [
    {
     "data": {
      "text/html": [
       "Changes to your `wandb` environment variables will be ignored because your `wandb` session has already started. For more information on how to modify your settings with `wandb.init()` arguments, please refer to <a href='https://wandb.me/wandb-init' target=\"_blank\">the W&B docs</a>."
      ],
      "text/plain": [
       "<IPython.core.display.HTML object>"
      ]
     },
     "metadata": {},
     "output_type": "display_data"
    },
    {
     "data": {
      "text/html": [
       "Tracking run with wandb version 0.19.9"
      ],
      "text/plain": [
       "<IPython.core.display.HTML object>"
      ]
     },
     "metadata": {},
     "output_type": "display_data"
    },
    {
     "data": {
      "text/html": [
       "Run data is saved locally in <code>/Users/takizawakeiya/Desktop/python/Kaggle/Predict_Podcast_Listening_Time/experiments/exp001/wandb/run-20250413_124922-6phhyybc</code>"
      ],
      "text/plain": [
       "<IPython.core.display.HTML object>"
      ]
     },
     "metadata": {},
     "output_type": "display_data"
    },
    {
     "data": {
      "text/html": [
       "Syncing run <strong><a href='https://wandb.ai/tkzw-0529-prudential-financial/project_demo/runs/6phhyybc' target=\"_blank\">dauntless-darkness-1</a></strong> to <a href='https://wandb.ai/tkzw-0529-prudential-financial/project_demo' target=\"_blank\">Weights & Biases</a> (<a href='https://wandb.me/developer-guide' target=\"_blank\">docs</a>)<br>"
      ],
      "text/plain": [
       "<IPython.core.display.HTML object>"
      ]
     },
     "metadata": {},
     "output_type": "display_data"
    },
    {
     "data": {
      "text/html": [
       " View project at <a href='https://wandb.ai/tkzw-0529-prudential-financial/project_demo' target=\"_blank\">https://wandb.ai/tkzw-0529-prudential-financial/project_demo</a>"
      ],
      "text/plain": [
       "<IPython.core.display.HTML object>"
      ]
     },
     "metadata": {},
     "output_type": "display_data"
    },
    {
     "data": {
      "text/html": [
       " View run at <a href='https://wandb.ai/tkzw-0529-prudential-financial/project_demo/runs/6phhyybc' target=\"_blank\">https://wandb.ai/tkzw-0529-prudential-financial/project_demo/runs/6phhyybc</a>"
      ],
      "text/plain": [
       "<IPython.core.display.HTML object>"
      ]
     },
     "metadata": {},
     "output_type": "display_data"
    },
    {
     "data": {
      "text/html": [
       "<button onClick=\"this.nextSibling.style.display='block';this.style.display='none';\">Display W&B run</button><iframe src='https://wandb.ai/tkzw-0529-prudential-financial/project_demo/runs/6phhyybc?jupyter=true' style='border:none;width:100%;height:420px;display:none;'></iframe>"
      ],
      "text/plain": [
       "<wandb.sdk.wandb_run.Run at 0x300a044c0>"
      ]
     },
     "execution_count": 5,
     "metadata": {},
     "output_type": "execute_result"
    }
   ],
   "source": [
    "wandb.init(project=\"project_demo\")"
   ]
  },
  {
   "cell_type": "code",
   "execution_count": 42,
   "metadata": {},
   "outputs": [],
   "source": [
    "import os\n",
    "import random\n",
    "import numpy as np\n",
    "import pandas as pd\n",
    "import wandb\n",
    "\n",
    "from wandb.integration.lightgbm import log_summary, wandb_callback\n",
    "\n",
    "import lightgbm as lgb\n",
    "from sklearn.model_selection import train_test_split\n",
    "from sklearn.metrics import mean_squared_error\n",
    "from sklearn.preprocessing import LabelEncoder\n",
    "\n",
    "\n"
   ]
  },
  {
   "cell_type": "code",
   "execution_count": 43,
   "metadata": {},
   "outputs": [
    {
     "name": "stdout",
     "output_type": "stream",
     "text": [
      "wandb version: 0.19.9\n",
      "lightgbm version: 4.5.0\n"
     ]
    }
   ],
   "source": [
    "print(f\"wandb version: {wandb.__version__}\")\n",
    "print(f\"lightgbm version: {lgb.__version__}\")\n"
   ]
  },
  {
   "cell_type": "code",
   "execution_count": 44,
   "metadata": {},
   "outputs": [
    {
     "name": "stdout",
     "output_type": "stream",
     "text": [
      "DATA ACQUIRE:COMPLETE\n",
      "========================================\n",
      "\n",
      "COLUMNS\n",
      "----------------------------------------\n",
      "COLUMN :  D-TYPE :  #NANS\n",
      "id : int64 : 0 nans\n",
      "Podcast_Name : object : 0 nans\n",
      "Episode_Title : object : 0 nans\n",
      "Episode_Length_minutes : float64 : 87093 nans\n",
      "Genre : object : 0 nans\n",
      "Host_Popularity_percentage : float64 : 0 nans\n",
      "Publication_Day : object : 0 nans\n",
      "Publication_Time : object : 0 nans\n",
      "Guest_Popularity_percentage : float64 : 146030 nans\n",
      "Number_of_Ads : float64 : 1 nans\n",
      "Episode_Sentiment : object : 0 nans\n",
      "Listening_Time_minutes : float64 : 0 nans\n",
      "========================================\n",
      "\n"
     ]
    }
   ],
   "source": [
    "df_train = da.get_data_and_columns(\"Train\")\n",
    "categorical_columns = ['Podcast_Name', 'Episode_Title', 'Genre', 'Publication_Day', 'Publication_Time', 'Episode_Sentiment']\n",
    "label_encoders = {}\n",
    "\n",
    "for col in categorical_columns:\n",
    "    label_encoders[col] = LabelEncoder()\n",
    "    df_train[col] = label_encoders[col].fit_transform(df_train[col].astype(str))"
   ]
  },
  {
   "cell_type": "code",
   "execution_count": 45,
   "metadata": {},
   "outputs": [
    {
     "data": {
      "text/plain": [
       "Index(['id', 'Podcast_Name', 'Episode_Title', 'Episode_Length_minutes',\n",
       "       'Genre', 'Host_Popularity_percentage', 'Publication_Day',\n",
       "       'Publication_Time', 'Guest_Popularity_percentage', 'Number_of_Ads',\n",
       "       'Episode_Sentiment', 'Listening_Time_minutes'],\n",
       "      dtype='object')"
      ]
     },
     "execution_count": 45,
     "metadata": {},
     "output_type": "execute_result"
    }
   ],
   "source": [
    "df_train.columns"
   ]
  },
  {
   "cell_type": "code",
   "execution_count": 46,
   "metadata": {},
   "outputs": [],
   "source": [
    "class CFG:\n",
    "    exp_name = 'exp001'\n",
    "    test_size = 0.2\n",
    "    random_state = 529\n",
    "    learning_rate = 0.1\n",
    "    num_leaves = 31\n",
    "    n_estimators = 10000\n",
    "    feature_fraction = 0.9\n",
    "    stopping_rounds = 50\n",
    "    objective = 'regression'\n",
    "    metric = 'rmse'\n",
    "    features = ['id', 'Podcast_Name', 'Episode_Title', 'Episode_Length_minutes', 'Genre', \n",
    "               'Host_Popularity_percentage', 'Publication_Day', 'Publication_Time', \n",
    "               'Guest_Popularity_percentage', 'Number_of_Ads', 'Episode_Sentiment']\n",
    "    target = ['Listening_Time_minutes']\n",
    "    # カテゴリカル特徴量のリストを追加\n",
    "    categorical_features = ['Podcast_Name', 'Episode_Title', 'Genre', 'Publication_Day', \n",
    "                          'Publication_Time', 'Episode_Sentiment']\n",
    "    \n",
    "config = CFG()\n"
   ]
  },
  {
   "cell_type": "code",
   "execution_count": 47,
   "metadata": {},
   "outputs": [],
   "source": [
    "def seed_everything(seed: int):\n",
    "    random.seed(seed)\n",
    "    os.environ['PYTHONHASHSEED'] = str(seed)\n",
    "    np.random.seed(seed)\n",
    "    \n",
    "seed_everything(config.random_state)\n",
    "    "
   ]
  },
  {
   "cell_type": "code",
   "execution_count": 48,
   "metadata": {},
   "outputs": [
    {
     "data": {
      "text/plain": [
       "{'categorical_features': ['Podcast_Name',\n",
       "  'Episode_Title',\n",
       "  'Genre',\n",
       "  'Publication_Day',\n",
       "  'Publication_Time',\n",
       "  'Episode_Sentiment'],\n",
       " 'exp_name': 'exp001',\n",
       " 'feature_fraction': 0.9,\n",
       " 'features': ['id',\n",
       "  'Podcast_Name',\n",
       "  'Episode_Title',\n",
       "  'Episode_Length_minutes',\n",
       "  'Genre',\n",
       "  'Host_Popularity_percentage',\n",
       "  'Publication_Day',\n",
       "  'Publication_Time',\n",
       "  'Guest_Popularity_percentage',\n",
       "  'Number_of_Ads',\n",
       "  'Episode_Sentiment'],\n",
       " 'learning_rate': 0.1,\n",
       " 'metric': 'rmse',\n",
       " 'n_estimators': 10000,\n",
       " 'num_leaves': 31,\n",
       " 'objective': 'regression',\n",
       " 'random_state': 529,\n",
       " 'stopping_rounds': 50,\n",
       " 'target': ['Listening_Time_minutes'],\n",
       " 'test_size': 0.2}"
      ]
     },
     "execution_count": 48,
     "metadata": {},
     "output_type": "execute_result"
    }
   ],
   "source": [
    "def class_to_dict(obj):\n",
    "    return {k: getattr(obj, k) for k in dir(obj) if not k.startswith('_') and not callable(getattr(obj, k))}\n",
    "\n",
    "class_to_dict(config)\n",
    " "
   ]
  },
  {
   "cell_type": "code",
   "execution_count": 49,
   "metadata": {},
   "outputs": [
    {
     "data": {
      "text/html": [
       "Changes to your `wandb` environment variables will be ignored because your `wandb` session has already started. For more information on how to modify your settings with `wandb.init()` arguments, please refer to <a href='https://wandb.me/wandb-init' target=\"_blank\">the W&B docs</a>."
      ],
      "text/plain": [
       "<IPython.core.display.HTML object>"
      ]
     },
     "metadata": {},
     "output_type": "display_data"
    },
    {
     "data": {
      "text/html": [
       "Tracking run with wandb version 0.19.9"
      ],
      "text/plain": [
       "<IPython.core.display.HTML object>"
      ]
     },
     "metadata": {},
     "output_type": "display_data"
    },
    {
     "data": {
      "text/html": [
       "Run data is saved locally in <code>/Users/takizawakeiya/Desktop/python/Kaggle/Predict_Podcast_Listening_Time/experiments/exp001/wandb/run-20250413_133504-t3z20gi0</code>"
      ],
      "text/plain": [
       "<IPython.core.display.HTML object>"
      ]
     },
     "metadata": {},
     "output_type": "display_data"
    },
    {
     "data": {
      "text/html": [
       "Syncing run <strong><a href='https://wandb.ai/tkzw-0529-prudential-financial/sample_project/runs/t3z20gi0' target=\"_blank\">exp001</a></strong> to <a href='https://wandb.ai/tkzw-0529-prudential-financial/sample_project' target=\"_blank\">Weights & Biases</a> (<a href='https://wandb.me/developer-guide' target=\"_blank\">docs</a>)<br>"
      ],
      "text/plain": [
       "<IPython.core.display.HTML object>"
      ]
     },
     "metadata": {},
     "output_type": "display_data"
    },
    {
     "data": {
      "text/html": [
       " View project at <a href='https://wandb.ai/tkzw-0529-prudential-financial/sample_project' target=\"_blank\">https://wandb.ai/tkzw-0529-prudential-financial/sample_project</a>"
      ],
      "text/plain": [
       "<IPython.core.display.HTML object>"
      ]
     },
     "metadata": {},
     "output_type": "display_data"
    },
    {
     "data": {
      "text/html": [
       " View run at <a href='https://wandb.ai/tkzw-0529-prudential-financial/sample_project/runs/t3z20gi0' target=\"_blank\">https://wandb.ai/tkzw-0529-prudential-financial/sample_project/runs/t3z20gi0</a>"
      ],
      "text/plain": [
       "<IPython.core.display.HTML object>"
      ]
     },
     "metadata": {},
     "output_type": "display_data"
    },
    {
     "data": {
      "text/html": [
       "<button onClick=\"this.nextSibling.style.display='block';this.style.display='none';\">Display W&B run</button><iframe src='https://wandb.ai/tkzw-0529-prudential-financial/sample_project/runs/t3z20gi0?jupyter=true' style='border:none;width:100%;height:420px;display:none;'></iframe>"
      ],
      "text/plain": [
       "<wandb.sdk.wandb_run.Run at 0x1418af850>"
      ]
     },
     "execution_count": 49,
     "metadata": {},
     "output_type": "execute_result"
    }
   ],
   "source": [
    "wandb.init(project=\"sample_project\",\n",
    "           config=class_to_dict(config),\n",
    "           name=config.exp_name,\n",
    "           )\n",
    "\n"
   ]
  },
  {
   "cell_type": "code",
   "execution_count": 50,
   "metadata": {},
   "outputs": [
    {
     "data": {
      "text/plain": [
       "((600000, 11), (150000, 11), (600000, 1), (150000, 1))"
      ]
     },
     "execution_count": 50,
     "metadata": {},
     "output_type": "execute_result"
    }
   ],
   "source": [
    "X_train, X_test, y_train, y_test = train_test_split(df_train[config.features],\n",
    "                                                    df_train[config.target],\n",
    "                                                    test_size=config.test_size,\n",
    "                                                    random_state=config.random_state)\n",
    "X_train.shape, X_test.shape, y_train.shape, y_test.shape"
   ]
  },
  {
   "cell_type": "code",
   "execution_count": 51,
   "metadata": {},
   "outputs": [
    {
     "name": "stdout",
     "output_type": "stream",
     "text": [
      "[LightGBM] [Info] Auto-choosing row-wise multi-threading, the overhead of testing was 0.002115 seconds.\n",
      "You can set `force_row_wise=true` to remove the overhead.\n",
      "And if memory is not enough, you can set `force_col_wise=true`.\n",
      "[LightGBM] [Info] Total Bins 1199\n",
      "[LightGBM] [Info] Number of data points in the train set: 600000, number of used features: 11\n",
      "[LightGBM] [Info] Start training from score 45.410277\n",
      "Training until validation scores don't improve for 50 rounds\n",
      "[100]\ttraining's rmse: 13.0058\tvalid_1's rmse: 13.1006\n",
      "[200]\ttraining's rmse: 12.8889\tvalid_1's rmse: 13.0675\n",
      "[300]\ttraining's rmse: 12.7882\tvalid_1's rmse: 13.0466\n",
      "[400]\ttraining's rmse: 12.6986\tvalid_1's rmse: 13.0281\n",
      "[500]\ttraining's rmse: 12.6177\tvalid_1's rmse: 13.0154\n",
      "[600]\ttraining's rmse: 12.5395\tvalid_1's rmse: 13.0065\n",
      "[700]\ttraining's rmse: 12.4667\tvalid_1's rmse: 12.9975\n",
      "[800]\ttraining's rmse: 12.3996\tvalid_1's rmse: 12.9896\n",
      "[900]\ttraining's rmse: 12.3327\tvalid_1's rmse: 12.9842\n",
      "[1000]\ttraining's rmse: 12.2715\tvalid_1's rmse: 12.9812\n",
      "[1100]\ttraining's rmse: 12.2122\tvalid_1's rmse: 12.9769\n",
      "[1200]\ttraining's rmse: 12.1542\tvalid_1's rmse: 12.9737\n",
      "[1300]\ttraining's rmse: 12.0996\tvalid_1's rmse: 12.9724\n",
      "[1400]\ttraining's rmse: 12.0416\tvalid_1's rmse: 12.9673\n",
      "[1500]\ttraining's rmse: 11.9877\tvalid_1's rmse: 12.9627\n",
      "[1600]\ttraining's rmse: 11.936\tvalid_1's rmse: 12.9583\n",
      "[1700]\ttraining's rmse: 11.8847\tvalid_1's rmse: 12.9538\n",
      "[1800]\ttraining's rmse: 11.8352\tvalid_1's rmse: 12.9523\n",
      "[1900]\ttraining's rmse: 11.7856\tvalid_1's rmse: 12.9516\n",
      "[2000]\ttraining's rmse: 11.7342\tvalid_1's rmse: 12.95\n",
      "Early stopping, best iteration is:\n",
      "[2006]\ttraining's rmse: 11.7311\tvalid_1's rmse: 12.9498\n"
     ]
    }
   ],
   "source": [
    "train_data = lgb.Dataset(X_train, label=y_train)\n",
    "test_data = lgb.Dataset(X_test, label=y_test)\n",
    "\n",
    "params = {\n",
    "    'learning_rate': config.learning_rate,\n",
    "    'num_leaves': config.num_leaves,\n",
    "    'objective': config.objective,\n",
    "    'metric': config.metric,\n",
    "    'feature_fraction': config.feature_fraction,\n",
    "}\n",
    "\n",
    "model = lgb.train(\n",
    "                  params, \n",
    "                  train_data,\n",
    "                  num_boost_round=config.n_estimators,\n",
    "                  callbacks = [\n",
    "                               lgb.early_stopping(stopping_rounds=config.stopping_rounds, verbose=True),\n",
    "                               lgb.log_evaluation(period=100), wandb_callback()\n",
    "                              ],\n",
    "                  valid_sets = [train_data, test_data],\n",
    "                  )"
   ]
  },
  {
   "cell_type": "code",
   "execution_count": 53,
   "metadata": {},
   "outputs": [
    {
     "name": "stdout",
     "output_type": "stream",
     "text": [
      "RMSE: 12.949750122180982\n"
     ]
    },
    {
     "name": "stderr",
     "output_type": "stream",
     "text": [
      "/Users/takizawakeiya/Desktop/python/Takizawa-venv/lib/python3.9/site-packages/sklearn/metrics/_regression.py:483: FutureWarning: 'squared' is deprecated in version 1.4 and will be removed in 1.6. To calculate the root mean squared error, use the function'root_mean_squared_error'.\n",
      "  warnings.warn(\n"
     ]
    },
    {
     "data": {
      "text/plain": [
       "<lightgbm.basic.Booster at 0x30123bb50>"
      ]
     },
     "execution_count": 53,
     "metadata": {},
     "output_type": "execute_result"
    }
   ],
   "source": [
    "y_pred = model.predict(X_test, num_iteration=model.best_iteration)\n",
    "\n",
    "rmse = mean_squared_error(y_test, y_pred, squared=False)\n",
    "print(f\"RMSE: {rmse}\")\n",
    "\n",
    "# モデルの保存\n",
    "model.save_model('lgb_model.txt')\n",
    "\n"
   ]
  },
  {
   "cell_type": "code",
   "execution_count": 54,
   "metadata": {},
   "outputs": [],
   "source": [
    "log_summary(model, save_model_checkpoint=True)"
   ]
  },
  {
   "cell_type": "code",
   "execution_count": 55,
   "metadata": {},
   "outputs": [
    {
     "data": {
      "text/html": [],
      "text/plain": [
       "<IPython.core.display.HTML object>"
      ]
     },
     "metadata": {},
     "output_type": "display_data"
    },
    {
     "data": {
      "text/html": [
       "<br>    <style><br>        .wandb-row {<br>            display: flex;<br>            flex-direction: row;<br>            flex-wrap: wrap;<br>            justify-content: flex-start;<br>            width: 100%;<br>        }<br>        .wandb-col {<br>            display: flex;<br>            flex-direction: column;<br>            flex-basis: 100%;<br>            flex: 1;<br>            padding: 10px;<br>        }<br>    </style><br><div class=\"wandb-row\"><div class=\"wandb-col\"><h3>Run history:</h3><br/><table class=\"wandb\"><tr><td>iteration</td><td>▁▁▂▃▃▄▅▅▆▆▆▆▆▇▇▇████▁▁▁▂▂▃▃▃▃▄▄▄▄▄▄▅▅▆▆█</td></tr><tr><td>training_rmse</td><td>█▅▅▅▄▄▄▄▃▃▃▃▂▂▂▂▂▂▂▁▁▁▁▅▄▄▃▃▃▃▃▃▃▂▂▂▂▂▂▁</td></tr><tr><td>valid_1_rmse</td><td>▂▂▂▁▁▁▁▁▁▁▁▁▁▁▁▁▁▁▁█▂▂▂▂▂▂▂▂▁▁▁▁▁▁▁▁▁▁▁▁</td></tr></table><br/></div><div class=\"wandb-col\"><h3>Run summary:</h3><br/><table class=\"wandb\"><tr><td>best_iteration</td><td>2006</td></tr><tr><td>iteration</td><td>2055</td></tr></table><br/></div></div>"
      ],
      "text/plain": [
       "<IPython.core.display.HTML object>"
      ]
     },
     "metadata": {},
     "output_type": "display_data"
    },
    {
     "data": {
      "text/html": [
       " View run <strong style=\"color:#cdcd00\">exp001</strong> at: <a href='https://wandb.ai/tkzw-0529-prudential-financial/sample_project/runs/t3z20gi0' target=\"_blank\">https://wandb.ai/tkzw-0529-prudential-financial/sample_project/runs/t3z20gi0</a><br> View project at: <a href='https://wandb.ai/tkzw-0529-prudential-financial/sample_project' target=\"_blank\">https://wandb.ai/tkzw-0529-prudential-financial/sample_project</a><br>Synced 5 W&B file(s), 1 media file(s), 4 artifact file(s) and 0 other file(s)"
      ],
      "text/plain": [
       "<IPython.core.display.HTML object>"
      ]
     },
     "metadata": {},
     "output_type": "display_data"
    },
    {
     "data": {
      "text/html": [
       "Find logs at: <code>./wandb/run-20250413_133504-t3z20gi0/logs</code>"
      ],
      "text/plain": [
       "<IPython.core.display.HTML object>"
      ]
     },
     "metadata": {},
     "output_type": "display_data"
    }
   ],
   "source": [
    "wandb.finish()"
   ]
  },
  {
   "cell_type": "code",
   "execution_count": null,
   "metadata": {},
   "outputs": [],
   "source": []
  }
 ],
 "metadata": {
  "kernelspec": {
   "display_name": "Takizawa-venv",
   "language": "python",
   "name": "python3"
  },
  "language_info": {
   "codemirror_mode": {
    "name": "ipython",
    "version": 3
   },
   "file_extension": ".py",
   "mimetype": "text/x-python",
   "name": "python",
   "nbconvert_exporter": "python",
   "pygments_lexer": "ipython3",
   "version": "3.9.6"
  }
 },
 "nbformat": 4,
 "nbformat_minor": 2
}

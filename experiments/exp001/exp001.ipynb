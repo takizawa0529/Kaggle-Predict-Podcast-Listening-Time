{
 "cells": [
  {
   "cell_type": "code",
   "execution_count": 15,
   "metadata": {},
   "outputs": [],
   "source": [
    "import sys\n",
    "sys.path.append(\"../../../\")\n",
    "\n",
    "import os \n",
    "os.environ[\"WANDB_API_KEY\"] = \"d63df136f169bffa17486544a5339caee2aec09c\"\n",
    "\n",
    "from modules.acquire_data import DataAcquire\n",
    "from modules.analyze_data import analyze_data\n",
    "from modules.create_model import create_model\n",
    "\n",
    "da = DataAcquire()"
   ]
  },
  {
   "cell_type": "code",
   "execution_count": null,
   "metadata": {},
   "outputs": [],
   "source": []
  },
  {
   "cell_type": "code",
   "execution_count": 7,
   "metadata": {},
   "outputs": [
    {
     "name": "stdout",
     "output_type": "stream",
     "text": [
      "DATA ACQUIRE:COMPLETE\n",
      "========================================\n",
      "\n",
      "COLUMNS\n",
      "----------------------------------------\n",
      "COLUMN :  D-TYPE :  #NANS\n",
      "id : int64 : 0 nans\n",
      "Podcast_Name : object : 0 nans\n",
      "Episode_Title : object : 0 nans\n",
      "Episode_Length_minutes : float64 : 87093 nans\n",
      "Genre : object : 0 nans\n",
      "Host_Popularity_percentage : float64 : 0 nans\n",
      "Publication_Day : object : 0 nans\n",
      "Publication_Time : object : 0 nans\n",
      "Guest_Popularity_percentage : float64 : 146030 nans\n",
      "Number_of_Ads : float64 : 1 nans\n",
      "Episode_Sentiment : object : 0 nans\n",
      "Listening_Time_minutes : float64 : 0 nans\n",
      "========================================\n",
      "\n",
      "DATA ACQUIRE:COMPLETE\n",
      "========================================\n",
      "\n",
      "COLUMNS\n",
      "----------------------------------------\n",
      "COLUMN :  D-TYPE :  #NANS\n",
      "id : int64 : 0 nans\n",
      "Podcast_Name : object : 0 nans\n",
      "Episode_Title : object : 0 nans\n",
      "Episode_Length_minutes : float64 : 28736 nans\n",
      "Genre : object : 0 nans\n",
      "Host_Popularity_percentage : float64 : 0 nans\n",
      "Publication_Day : object : 0 nans\n",
      "Publication_Time : object : 0 nans\n",
      "Guest_Popularity_percentage : float64 : 48832 nans\n",
      "Number_of_Ads : float64 : 0 nans\n",
      "Episode_Sentiment : object : 0 nans\n",
      "========================================\n",
      "\n"
     ]
    }
   ],
   "source": [
    "df_train = da.get_data_and_columns(\"Train\")\n",
    "df_test = da.get_data_and_columns(\"Test\")"
   ]
  },
  {
   "cell_type": "code",
   "execution_count": 8,
   "metadata": {},
   "outputs": [
    {
     "data": {
      "text/html": [
       "<div>\n",
       "<style scoped>\n",
       "    .dataframe tbody tr th:only-of-type {\n",
       "        vertical-align: middle;\n",
       "    }\n",
       "\n",
       "    .dataframe tbody tr th {\n",
       "        vertical-align: top;\n",
       "    }\n",
       "\n",
       "    .dataframe thead th {\n",
       "        text-align: right;\n",
       "    }\n",
       "</style>\n",
       "<table border=\"1\" class=\"dataframe\">\n",
       "  <thead>\n",
       "    <tr style=\"text-align: right;\">\n",
       "      <th></th>\n",
       "      <th>id</th>\n",
       "      <th>Podcast_Name</th>\n",
       "      <th>Episode_Title</th>\n",
       "      <th>Episode_Length_minutes</th>\n",
       "      <th>Genre</th>\n",
       "      <th>Host_Popularity_percentage</th>\n",
       "      <th>Publication_Day</th>\n",
       "      <th>Publication_Time</th>\n",
       "      <th>Guest_Popularity_percentage</th>\n",
       "      <th>Number_of_Ads</th>\n",
       "      <th>Episode_Sentiment</th>\n",
       "      <th>Listening_Time_minutes</th>\n",
       "    </tr>\n",
       "  </thead>\n",
       "  <tbody>\n",
       "    <tr>\n",
       "      <th>0</th>\n",
       "      <td>0</td>\n",
       "      <td>Mystery Matters</td>\n",
       "      <td>Episode 98</td>\n",
       "      <td>NaN</td>\n",
       "      <td>True Crime</td>\n",
       "      <td>74.81</td>\n",
       "      <td>Thursday</td>\n",
       "      <td>Night</td>\n",
       "      <td>NaN</td>\n",
       "      <td>0.0</td>\n",
       "      <td>Positive</td>\n",
       "      <td>31.41998</td>\n",
       "    </tr>\n",
       "    <tr>\n",
       "      <th>1</th>\n",
       "      <td>1</td>\n",
       "      <td>Joke Junction</td>\n",
       "      <td>Episode 26</td>\n",
       "      <td>119.80</td>\n",
       "      <td>Comedy</td>\n",
       "      <td>66.95</td>\n",
       "      <td>Saturday</td>\n",
       "      <td>Afternoon</td>\n",
       "      <td>75.95</td>\n",
       "      <td>2.0</td>\n",
       "      <td>Negative</td>\n",
       "      <td>88.01241</td>\n",
       "    </tr>\n",
       "    <tr>\n",
       "      <th>2</th>\n",
       "      <td>2</td>\n",
       "      <td>Study Sessions</td>\n",
       "      <td>Episode 16</td>\n",
       "      <td>73.90</td>\n",
       "      <td>Education</td>\n",
       "      <td>69.97</td>\n",
       "      <td>Tuesday</td>\n",
       "      <td>Evening</td>\n",
       "      <td>8.97</td>\n",
       "      <td>0.0</td>\n",
       "      <td>Negative</td>\n",
       "      <td>44.92531</td>\n",
       "    </tr>\n",
       "    <tr>\n",
       "      <th>3</th>\n",
       "      <td>3</td>\n",
       "      <td>Digital Digest</td>\n",
       "      <td>Episode 45</td>\n",
       "      <td>67.17</td>\n",
       "      <td>Technology</td>\n",
       "      <td>57.22</td>\n",
       "      <td>Monday</td>\n",
       "      <td>Morning</td>\n",
       "      <td>78.70</td>\n",
       "      <td>2.0</td>\n",
       "      <td>Positive</td>\n",
       "      <td>46.27824</td>\n",
       "    </tr>\n",
       "    <tr>\n",
       "      <th>4</th>\n",
       "      <td>4</td>\n",
       "      <td>Mind &amp; Body</td>\n",
       "      <td>Episode 86</td>\n",
       "      <td>110.51</td>\n",
       "      <td>Health</td>\n",
       "      <td>80.07</td>\n",
       "      <td>Monday</td>\n",
       "      <td>Afternoon</td>\n",
       "      <td>58.68</td>\n",
       "      <td>3.0</td>\n",
       "      <td>Neutral</td>\n",
       "      <td>75.61031</td>\n",
       "    </tr>\n",
       "    <tr>\n",
       "      <th>...</th>\n",
       "      <td>...</td>\n",
       "      <td>...</td>\n",
       "      <td>...</td>\n",
       "      <td>...</td>\n",
       "      <td>...</td>\n",
       "      <td>...</td>\n",
       "      <td>...</td>\n",
       "      <td>...</td>\n",
       "      <td>...</td>\n",
       "      <td>...</td>\n",
       "      <td>...</td>\n",
       "      <td>...</td>\n",
       "    </tr>\n",
       "    <tr>\n",
       "      <th>749995</th>\n",
       "      <td>749995</td>\n",
       "      <td>Learning Lab</td>\n",
       "      <td>Episode 25</td>\n",
       "      <td>75.66</td>\n",
       "      <td>Education</td>\n",
       "      <td>69.36</td>\n",
       "      <td>Saturday</td>\n",
       "      <td>Morning</td>\n",
       "      <td>NaN</td>\n",
       "      <td>0.0</td>\n",
       "      <td>Negative</td>\n",
       "      <td>56.87058</td>\n",
       "    </tr>\n",
       "    <tr>\n",
       "      <th>749996</th>\n",
       "      <td>749996</td>\n",
       "      <td>Business Briefs</td>\n",
       "      <td>Episode 21</td>\n",
       "      <td>75.75</td>\n",
       "      <td>Business</td>\n",
       "      <td>35.21</td>\n",
       "      <td>Saturday</td>\n",
       "      <td>Night</td>\n",
       "      <td>NaN</td>\n",
       "      <td>2.0</td>\n",
       "      <td>Neutral</td>\n",
       "      <td>45.46242</td>\n",
       "    </tr>\n",
       "    <tr>\n",
       "      <th>749997</th>\n",
       "      <td>749997</td>\n",
       "      <td>Lifestyle Lounge</td>\n",
       "      <td>Episode 51</td>\n",
       "      <td>30.98</td>\n",
       "      <td>Lifestyle</td>\n",
       "      <td>78.58</td>\n",
       "      <td>Thursday</td>\n",
       "      <td>Morning</td>\n",
       "      <td>84.89</td>\n",
       "      <td>0.0</td>\n",
       "      <td>Negative</td>\n",
       "      <td>15.26000</td>\n",
       "    </tr>\n",
       "    <tr>\n",
       "      <th>749998</th>\n",
       "      <td>749998</td>\n",
       "      <td>Style Guide</td>\n",
       "      <td>Episode 47</td>\n",
       "      <td>108.98</td>\n",
       "      <td>Lifestyle</td>\n",
       "      <td>45.39</td>\n",
       "      <td>Thursday</td>\n",
       "      <td>Morning</td>\n",
       "      <td>93.27</td>\n",
       "      <td>0.0</td>\n",
       "      <td>Negative</td>\n",
       "      <td>100.72939</td>\n",
       "    </tr>\n",
       "    <tr>\n",
       "      <th>749999</th>\n",
       "      <td>749999</td>\n",
       "      <td>Sports Central</td>\n",
       "      <td>Episode 99</td>\n",
       "      <td>24.10</td>\n",
       "      <td>Sports</td>\n",
       "      <td>22.45</td>\n",
       "      <td>Saturday</td>\n",
       "      <td>Night</td>\n",
       "      <td>36.72</td>\n",
       "      <td>0.0</td>\n",
       "      <td>Neutral</td>\n",
       "      <td>11.94439</td>\n",
       "    </tr>\n",
       "  </tbody>\n",
       "</table>\n",
       "<p>750000 rows × 12 columns</p>\n",
       "</div>"
      ],
      "text/plain": [
       "            id      Podcast_Name Episode_Title  Episode_Length_minutes  \\\n",
       "0            0   Mystery Matters    Episode 98                     NaN   \n",
       "1            1     Joke Junction    Episode 26                  119.80   \n",
       "2            2    Study Sessions    Episode 16                   73.90   \n",
       "3            3    Digital Digest    Episode 45                   67.17   \n",
       "4            4       Mind & Body    Episode 86                  110.51   \n",
       "...        ...               ...           ...                     ...   \n",
       "749995  749995      Learning Lab    Episode 25                   75.66   \n",
       "749996  749996   Business Briefs    Episode 21                   75.75   \n",
       "749997  749997  Lifestyle Lounge    Episode 51                   30.98   \n",
       "749998  749998       Style Guide    Episode 47                  108.98   \n",
       "749999  749999    Sports Central    Episode 99                   24.10   \n",
       "\n",
       "             Genre  Host_Popularity_percentage Publication_Day  \\\n",
       "0       True Crime                       74.81        Thursday   \n",
       "1           Comedy                       66.95        Saturday   \n",
       "2        Education                       69.97         Tuesday   \n",
       "3       Technology                       57.22          Monday   \n",
       "4           Health                       80.07          Monday   \n",
       "...            ...                         ...             ...   \n",
       "749995   Education                       69.36        Saturday   \n",
       "749996    Business                       35.21        Saturday   \n",
       "749997   Lifestyle                       78.58        Thursday   \n",
       "749998   Lifestyle                       45.39        Thursday   \n",
       "749999      Sports                       22.45        Saturday   \n",
       "\n",
       "       Publication_Time  Guest_Popularity_percentage  Number_of_Ads  \\\n",
       "0                 Night                          NaN            0.0   \n",
       "1             Afternoon                        75.95            2.0   \n",
       "2               Evening                         8.97            0.0   \n",
       "3               Morning                        78.70            2.0   \n",
       "4             Afternoon                        58.68            3.0   \n",
       "...                 ...                          ...            ...   \n",
       "749995          Morning                          NaN            0.0   \n",
       "749996            Night                          NaN            2.0   \n",
       "749997          Morning                        84.89            0.0   \n",
       "749998          Morning                        93.27            0.0   \n",
       "749999            Night                        36.72            0.0   \n",
       "\n",
       "       Episode_Sentiment  Listening_Time_minutes  \n",
       "0               Positive                31.41998  \n",
       "1               Negative                88.01241  \n",
       "2               Negative                44.92531  \n",
       "3               Positive                46.27824  \n",
       "4                Neutral                75.61031  \n",
       "...                  ...                     ...  \n",
       "749995          Negative                56.87058  \n",
       "749996           Neutral                45.46242  \n",
       "749997          Negative                15.26000  \n",
       "749998          Negative               100.72939  \n",
       "749999           Neutral                11.94439  \n",
       "\n",
       "[750000 rows x 12 columns]"
      ]
     },
     "execution_count": 8,
     "metadata": {},
     "output_type": "execute_result"
    }
   ],
   "source": [
    "df_train"
   ]
  },
  {
   "cell_type": "code",
   "execution_count": 9,
   "metadata": {},
   "outputs": [
    {
     "name": "stderr",
     "output_type": "stream",
     "text": [
      "/Users/takizawakeiya/Desktop/python/Takizawa-venv/lib/python3.9/site-packages/urllib3/__init__.py:35: NotOpenSSLWarning: urllib3 v2 only supports OpenSSL 1.1.1+, currently the 'ssl' module is compiled with 'LibreSSL 2.8.3'. See: https://github.com/urllib3/urllib3/issues/3020\n",
      "  warnings.warn(\n"
     ]
    }
   ],
   "source": [
    "import os\n",
    "import random\n",
    "import numpy as np\n",
    "import pandas as pd\n",
    "import wandb\n",
    "\n",
    "from wandb.integration.lightgbm import log_summary, wandb_callback\n",
    "\n",
    "import lightgbm as lgb\n",
    "from sklearn.model_selection import train_test_split\n",
    "from sklearn.metrics import mean_squared_error\n",
    "from sklearn.preprocessing import LabelEncoder"
   ]
  },
  {
   "cell_type": "code",
   "execution_count": 46,
   "metadata": {},
   "outputs": [
    {
     "name": "stdout",
     "output_type": "stream",
     "text": [
      "DATA ACQUIRE:COMPLETE\n",
      "========================================\n",
      "\n",
      "COLUMNS\n",
      "----------------------------------------\n",
      "COLUMN :  D-TYPE :  #NANS\n",
      "id : int64 : 0 nans\n",
      "Podcast_Name : object : 0 nans\n",
      "Episode_Title : object : 0 nans\n",
      "Episode_Length_minutes : float64 : 87093 nans\n",
      "Genre : object : 0 nans\n",
      "Host_Popularity_percentage : float64 : 0 nans\n",
      "Publication_Day : object : 0 nans\n",
      "Publication_Time : object : 0 nans\n",
      "Guest_Popularity_percentage : float64 : 146030 nans\n",
      "Number_of_Ads : float64 : 1 nans\n",
      "Episode_Sentiment : object : 0 nans\n",
      "Listening_Time_minutes : float64 : 0 nans\n",
      "========================================\n",
      "\n",
      "DATA ACQUIRE:COMPLETE\n",
      "========================================\n",
      "\n",
      "COLUMNS\n",
      "----------------------------------------\n",
      "COLUMN :  D-TYPE :  #NANS\n",
      "id : int64 : 0 nans\n",
      "Podcast_Name : object : 0 nans\n",
      "Episode_Title : object : 0 nans\n",
      "Episode_Length_minutes : float64 : 28736 nans\n",
      "Genre : object : 0 nans\n",
      "Host_Popularity_percentage : float64 : 0 nans\n",
      "Publication_Day : object : 0 nans\n",
      "Publication_Time : object : 0 nans\n",
      "Guest_Popularity_percentage : float64 : 48832 nans\n",
      "Number_of_Ads : float64 : 0 nans\n",
      "Episode_Sentiment : object : 0 nans\n",
      "========================================\n",
      "\n"
     ]
    }
   ],
   "source": [
    "df_train = da.get_data_and_columns(\"Train\")\n",
    "df_test = da.get_data_and_columns(\"Test\")\n",
    "categorical_columns = ['Podcast_Name', 'Episode_Title', 'Genre', 'Publication_Day', 'Publication_Time', 'Episode_Sentiment']\n",
    "label_encoders = {}\n",
    "\n",
    "for col in categorical_columns:\n",
    "    label_encoders[col] = LabelEncoder()\n",
    "    df_train[col] = label_encoders[col].fit_transform(df_train[col].astype(str))\n",
    "    df_test[col] = label_encoders[col].fit_transform(df_test[col].astype(str))"
   ]
  },
  {
   "cell_type": "markdown",
   "metadata": {},
   "source": [
    "## モデル作成で使用する関数"
   ]
  },
  {
   "cell_type": "code",
   "execution_count": 47,
   "metadata": {},
   "outputs": [],
   "source": [
    "class CFG:\n",
    "    exp_name = 'exp001'\n",
    "    test_size = 0.2\n",
    "    random_state = 529\n",
    "    learning_rate = 0.1\n",
    "    num_leaves = 31\n",
    "    n_estimators = 10000\n",
    "    feature_fraction = 0.9\n",
    "    stopping_rounds = 50\n",
    "    objective = 'regression'\n",
    "    metric = 'rmse'\n",
    "    features = ['Podcast_Name', 'Episode_Title', 'Episode_Length_minutes', 'Genre', \n",
    "               'Host_Popularity_percentage', 'Publication_Day', 'Publication_Time', \n",
    "               'Guest_Popularity_percentage', 'Number_of_Ads', 'Episode_Sentiment']\n",
    "    target = ['Listening_Time_minutes']\n",
    "    # カテゴリカル特徴量のリストを追加\n",
    "    categorical_features = ['Podcast_Name', 'Episode_Title', 'Genre', 'Publication_Day', \n",
    "                          'Publication_Time', 'Episode_Sentiment']\n",
    "    \n",
    "\n",
    "def seed_everything(seed: int):\n",
    "    random.seed(seed)\n",
    "    os.environ['PYTHONHASHSEED'] = str(seed)\n",
    "    np.random.seed(seed)\n",
    "\n",
    "\n",
    "def class_to_dict(obj):\n",
    "    return {k: getattr(obj, k) for k in dir(obj) if not k.startswith('_') and not callable(getattr(obj, k))}\n"
   ]
  },
  {
   "cell_type": "code",
   "execution_count": 48,
   "metadata": {},
   "outputs": [
    {
     "data": {
      "text/plain": [
       "{'categorical_features': ['Podcast_Name',\n",
       "  'Episode_Title',\n",
       "  'Genre',\n",
       "  'Publication_Day',\n",
       "  'Publication_Time',\n",
       "  'Episode_Sentiment'],\n",
       " 'exp_name': 'exp001',\n",
       " 'feature_fraction': 0.9,\n",
       " 'features': ['Podcast_Name',\n",
       "  'Episode_Title',\n",
       "  'Episode_Length_minutes',\n",
       "  'Genre',\n",
       "  'Host_Popularity_percentage',\n",
       "  'Publication_Day',\n",
       "  'Publication_Time',\n",
       "  'Guest_Popularity_percentage',\n",
       "  'Number_of_Ads',\n",
       "  'Episode_Sentiment'],\n",
       " 'learning_rate': 0.1,\n",
       " 'metric': 'rmse',\n",
       " 'n_estimators': 10000,\n",
       " 'num_leaves': 31,\n",
       " 'objective': 'regression',\n",
       " 'random_state': 529,\n",
       " 'stopping_rounds': 50,\n",
       " 'target': ['Listening_Time_minutes'],\n",
       " 'test_size': 0.2}"
      ]
     },
     "execution_count": 48,
     "metadata": {},
     "output_type": "execute_result"
    }
   ],
   "source": [
    "config = CFG()\n",
    "seed_everything(config.random_state)\n",
    "class_to_dict(config)\n"
   ]
  },
  {
   "cell_type": "markdown",
   "metadata": {},
   "source": [
    "## Wandbの起動"
   ]
  },
  {
   "cell_type": "code",
   "execution_count": 49,
   "metadata": {},
   "outputs": [
    {
     "data": {
      "text/plain": [
       "True"
      ]
     },
     "execution_count": 49,
     "metadata": {},
     "output_type": "execute_result"
    }
   ],
   "source": [
    "wandb.login()"
   ]
  },
  {
   "cell_type": "code",
   "execution_count": 50,
   "metadata": {},
   "outputs": [
    {
     "data": {
      "text/html": [
       "Tracking run with wandb version 0.19.9"
      ],
      "text/plain": [
       "<IPython.core.display.HTML object>"
      ]
     },
     "metadata": {},
     "output_type": "display_data"
    },
    {
     "data": {
      "text/html": [
       "Run data is saved locally in <code>/Users/takizawakeiya/Desktop/python/Kaggle/Predict_Podcast_Listening_Time/experiments/exp001/wandb/run-20250413_183650-hh3i86fj</code>"
      ],
      "text/plain": [
       "<IPython.core.display.HTML object>"
      ]
     },
     "metadata": {},
     "output_type": "display_data"
    },
    {
     "data": {
      "text/html": [
       "Syncing run <strong><a href='https://wandb.ai/tkzw-0529-prudential-financial/exp001/runs/hh3i86fj' target=\"_blank\">exp001</a></strong> to <a href='https://wandb.ai/tkzw-0529-prudential-financial/exp001' target=\"_blank\">Weights & Biases</a> (<a href='https://wandb.me/developer-guide' target=\"_blank\">docs</a>)<br>"
      ],
      "text/plain": [
       "<IPython.core.display.HTML object>"
      ]
     },
     "metadata": {},
     "output_type": "display_data"
    },
    {
     "data": {
      "text/html": [
       " View project at <a href='https://wandb.ai/tkzw-0529-prudential-financial/exp001' target=\"_blank\">https://wandb.ai/tkzw-0529-prudential-financial/exp001</a>"
      ],
      "text/plain": [
       "<IPython.core.display.HTML object>"
      ]
     },
     "metadata": {},
     "output_type": "display_data"
    },
    {
     "data": {
      "text/html": [
       " View run at <a href='https://wandb.ai/tkzw-0529-prudential-financial/exp001/runs/hh3i86fj' target=\"_blank\">https://wandb.ai/tkzw-0529-prudential-financial/exp001/runs/hh3i86fj</a>"
      ],
      "text/plain": [
       "<IPython.core.display.HTML object>"
      ]
     },
     "metadata": {},
     "output_type": "display_data"
    },
    {
     "data": {
      "text/html": [
       "<button onClick=\"this.nextSibling.style.display='block';this.style.display='none';\">Display W&B run</button><iframe src='https://wandb.ai/tkzw-0529-prudential-financial/exp001/runs/hh3i86fj?jupyter=true' style='border:none;width:100%;height:420px;display:none;'></iframe>"
      ],
      "text/plain": [
       "<wandb.sdk.wandb_run.Run at 0x162941d30>"
      ]
     },
     "execution_count": 50,
     "metadata": {},
     "output_type": "execute_result"
    }
   ],
   "source": [
    "wandb.init(project=\"exp001\",\n",
    "           config=class_to_dict(config),\n",
    "           name=config.exp_name,\n",
    "           )"
   ]
  },
  {
   "cell_type": "code",
   "execution_count": 32,
   "metadata": {},
   "outputs": [
    {
     "name": "stdout",
     "output_type": "stream",
     "text": [
      "[LightGBM] [Info] Auto-choosing row-wise multi-threading, the overhead of testing was 0.001985 seconds.\n",
      "You can set `force_row_wise=true` to remove the overhead.\n",
      "And if memory is not enough, you can set `force_col_wise=true`.\n",
      "[LightGBM] [Info] Total Bins 944\n",
      "[LightGBM] [Info] Number of data points in the train set: 600000, number of used features: 10\n",
      "[LightGBM] [Info] Start training from score 45.410277\n",
      "Training until validation scores don't improve for 50 rounds\n",
      "[100]\ttraining's rmse: 13.013\tvalid_1's rmse: 13.1011\n",
      "[200]\ttraining's rmse: 12.8968\tvalid_1's rmse: 13.0687\n",
      "[300]\ttraining's rmse: 12.801\tvalid_1's rmse: 13.0413\n",
      "[400]\ttraining's rmse: 12.7149\tvalid_1's rmse: 13.0248\n",
      "[500]\ttraining's rmse: 12.6335\tvalid_1's rmse: 13.0128\n",
      "[600]\ttraining's rmse: 12.564\tvalid_1's rmse: 13\n",
      "[700]\ttraining's rmse: 12.4895\tvalid_1's rmse: 12.9883\n",
      "[800]\ttraining's rmse: 12.4216\tvalid_1's rmse: 12.9789\n",
      "[900]\ttraining's rmse: 12.3602\tvalid_1's rmse: 12.9697\n",
      "[1000]\ttraining's rmse: 12.2982\tvalid_1's rmse: 12.9614\n",
      "[1100]\ttraining's rmse: 12.2411\tvalid_1's rmse: 12.9535\n",
      "[1200]\ttraining's rmse: 12.1866\tvalid_1's rmse: 12.9487\n",
      "[1300]\ttraining's rmse: 12.1351\tvalid_1's rmse: 12.9433\n",
      "[1400]\ttraining's rmse: 12.083\tvalid_1's rmse: 12.9378\n",
      "[1500]\ttraining's rmse: 12.0318\tvalid_1's rmse: 12.9336\n",
      "[1600]\ttraining's rmse: 11.9869\tvalid_1's rmse: 12.9287\n",
      "[1700]\ttraining's rmse: 11.9403\tvalid_1's rmse: 12.9255\n",
      "[1800]\ttraining's rmse: 11.895\tvalid_1's rmse: 12.9216\n",
      "Early stopping, best iteration is:\n",
      "[1830]\ttraining's rmse: 11.8828\tvalid_1's rmse: 12.921\n"
     ]
    }
   ],
   "source": [
    "X_train, X_test, y_train, y_test = train_test_split(df_train[config.features],\n",
    "                                                    df_train[config.target],\n",
    "                                                    test_size=config.test_size,\n",
    "                                                    random_state=config.random_state)\n",
    "X_train.shape, X_test.shape, y_train.shape, y_test.shape\n",
    "\n",
    "train_data = lgb.Dataset(X_train, label=y_train)\n",
    "test_data = lgb.Dataset(X_test, label=y_test)\n",
    "\n",
    "params = {\n",
    "    'learning_rate': config.learning_rate,\n",
    "    'num_leaves': config.num_leaves,\n",
    "    'objective': config.objective,\n",
    "    'metric': config.metric,\n",
    "    'feature_fraction': config.feature_fraction,\n",
    "}\n",
    "\n",
    "model = lgb.train(\n",
    "                  params, \n",
    "                  train_data,\n",
    "                  num_boost_round=config.n_estimators,\n",
    "                  callbacks = [\n",
    "                               lgb.early_stopping(stopping_rounds=config.stopping_rounds, verbose=True),\n",
    "                               lgb.log_evaluation(period=100), wandb_callback()\n",
    "                              ],\n",
    "                  valid_sets = [train_data, test_data],\n",
    "                  )\n",
    "log_summary(model, save_model_checkpoint=True)"
   ]
  },
  {
   "cell_type": "code",
   "execution_count": 33,
   "metadata": {},
   "outputs": [
    {
     "name": "stdout",
     "output_type": "stream",
     "text": [
      "RMSE: 12.920982971752377\n"
     ]
    },
    {
     "name": "stderr",
     "output_type": "stream",
     "text": [
      "/Users/takizawakeiya/Desktop/python/Takizawa-venv/lib/python3.9/site-packages/sklearn/metrics/_regression.py:483: FutureWarning: 'squared' is deprecated in version 1.4 and will be removed in 1.6. To calculate the root mean squared error, use the function'root_mean_squared_error'.\n",
      "  warnings.warn(\n"
     ]
    },
    {
     "data": {
      "text/html": [],
      "text/plain": [
       "<IPython.core.display.HTML object>"
      ]
     },
     "metadata": {},
     "output_type": "display_data"
    },
    {
     "data": {
      "text/html": [
       "<br>    <style><br>        .wandb-row {<br>            display: flex;<br>            flex-direction: row;<br>            flex-wrap: wrap;<br>            justify-content: flex-start;<br>            width: 100%;<br>        }<br>        .wandb-col {<br>            display: flex;<br>            flex-direction: column;<br>            flex-basis: 100%;<br>            flex: 1;<br>            padding: 10px;<br>        }<br>    </style><br><div class=\"wandb-row\"><div class=\"wandb-col\"><h3>Run history:</h3><br/><table class=\"wandb\"><tr><td>iteration</td><td>▁▁▁▂▂▂▂▂▂▃▃▃▃▃▃▃▃▄▄▄▅▅▅▅▅▅▅▅▆▆▇▇▇▇▇▇▇▇██</td></tr><tr><td>training_rmse</td><td>█▅▂▂▂▂▂▂▂▂▂▂▂▂▂▂▂▂▁▁▁▁▁▁▁▁▁▁▁▁▁▁▁▁▁▁▁▁▁▁</td></tr><tr><td>valid_1_rmse</td><td>█▃▃▃▂▂▂▂▂▂▂▂▂▂▂▂▂▂▂▂▂▂▂▂▂▂▂▁▁▁▁▁▁▁▁▁▁▁▁▁</td></tr></table><br/></div><div class=\"wandb-col\"><h3>Run summary:</h3><br/><table class=\"wandb\"><tr><td>best_iteration</td><td>1830</td></tr><tr><td>iteration</td><td>1879</td></tr></table><br/></div></div>"
      ],
      "text/plain": [
       "<IPython.core.display.HTML object>"
      ]
     },
     "metadata": {},
     "output_type": "display_data"
    },
    {
     "data": {
      "text/html": [
       " View run <strong style=\"color:#cdcd00\">exp001</strong> at: <a href='https://wandb.ai/tkzw-0529-prudential-financial/exp001/runs/m7z0oq7a' target=\"_blank\">https://wandb.ai/tkzw-0529-prudential-financial/exp001/runs/m7z0oq7a</a><br> View project at: <a href='https://wandb.ai/tkzw-0529-prudential-financial/exp001' target=\"_blank\">https://wandb.ai/tkzw-0529-prudential-financial/exp001</a><br>Synced 5 W&B file(s), 1 media file(s), 4 artifact file(s) and 0 other file(s)"
      ],
      "text/plain": [
       "<IPython.core.display.HTML object>"
      ]
     },
     "metadata": {},
     "output_type": "display_data"
    },
    {
     "data": {
      "text/html": [
       "Find logs at: <code>./wandb/run-20250413_182405-m7z0oq7a/logs</code>"
      ],
      "text/plain": [
       "<IPython.core.display.HTML object>"
      ]
     },
     "metadata": {},
     "output_type": "display_data"
    }
   ],
   "source": [
    "y_pred = model.predict(X_test, num_iteration=model.best_iteration)\n",
    "\n",
    "rmse = mean_squared_error(y_test, y_pred, squared=False)\n",
    "print(f\"RMSE: {rmse}\")\n",
    "\n",
    "# モデルの保存\n",
    "model.save_model(f'lgb_model_{config.exp_name}.txt')\n",
    "wandb.finish()"
   ]
  },
  {
   "cell_type": "code",
   "execution_count": 43,
   "metadata": {},
   "outputs": [
    {
     "data": {
      "text/html": [
       "<div>\n",
       "<style scoped>\n",
       "    .dataframe tbody tr th:only-of-type {\n",
       "        vertical-align: middle;\n",
       "    }\n",
       "\n",
       "    .dataframe tbody tr th {\n",
       "        vertical-align: top;\n",
       "    }\n",
       "\n",
       "    .dataframe thead th {\n",
       "        text-align: right;\n",
       "    }\n",
       "</style>\n",
       "<table border=\"1\" class=\"dataframe\">\n",
       "  <thead>\n",
       "    <tr style=\"text-align: right;\">\n",
       "      <th></th>\n",
       "      <th>Podcast_Name</th>\n",
       "      <th>Episode_Title</th>\n",
       "      <th>Episode_Length_minutes</th>\n",
       "      <th>Genre</th>\n",
       "      <th>Host_Popularity_percentage</th>\n",
       "      <th>Publication_Day</th>\n",
       "      <th>Publication_Time</th>\n",
       "      <th>Guest_Popularity_percentage</th>\n",
       "      <th>Number_of_Ads</th>\n",
       "      <th>Episode_Sentiment</th>\n",
       "    </tr>\n",
       "  </thead>\n",
       "  <tbody>\n",
       "    <tr>\n",
       "      <th>0</th>\n",
       "      <td>Educational Nuggets</td>\n",
       "      <td>Episode 73</td>\n",
       "      <td>78.96</td>\n",
       "      <td>Education</td>\n",
       "      <td>38.11</td>\n",
       "      <td>Saturday</td>\n",
       "      <td>Evening</td>\n",
       "      <td>53.33</td>\n",
       "      <td>1.0</td>\n",
       "      <td>Neutral</td>\n",
       "    </tr>\n",
       "    <tr>\n",
       "      <th>1</th>\n",
       "      <td>Sound Waves</td>\n",
       "      <td>Episode 23</td>\n",
       "      <td>27.87</td>\n",
       "      <td>Music</td>\n",
       "      <td>71.29</td>\n",
       "      <td>Sunday</td>\n",
       "      <td>Morning</td>\n",
       "      <td>NaN</td>\n",
       "      <td>0.0</td>\n",
       "      <td>Neutral</td>\n",
       "    </tr>\n",
       "    <tr>\n",
       "      <th>2</th>\n",
       "      <td>Joke Junction</td>\n",
       "      <td>Episode 11</td>\n",
       "      <td>69.10</td>\n",
       "      <td>Comedy</td>\n",
       "      <td>67.89</td>\n",
       "      <td>Friday</td>\n",
       "      <td>Evening</td>\n",
       "      <td>97.51</td>\n",
       "      <td>0.0</td>\n",
       "      <td>Positive</td>\n",
       "    </tr>\n",
       "    <tr>\n",
       "      <th>3</th>\n",
       "      <td>Comedy Corner</td>\n",
       "      <td>Episode 73</td>\n",
       "      <td>115.39</td>\n",
       "      <td>Comedy</td>\n",
       "      <td>23.40</td>\n",
       "      <td>Sunday</td>\n",
       "      <td>Morning</td>\n",
       "      <td>51.75</td>\n",
       "      <td>2.0</td>\n",
       "      <td>Positive</td>\n",
       "    </tr>\n",
       "    <tr>\n",
       "      <th>4</th>\n",
       "      <td>Life Lessons</td>\n",
       "      <td>Episode 50</td>\n",
       "      <td>72.32</td>\n",
       "      <td>Lifestyle</td>\n",
       "      <td>58.10</td>\n",
       "      <td>Wednesday</td>\n",
       "      <td>Morning</td>\n",
       "      <td>11.30</td>\n",
       "      <td>2.0</td>\n",
       "      <td>Neutral</td>\n",
       "    </tr>\n",
       "    <tr>\n",
       "      <th>...</th>\n",
       "      <td>...</td>\n",
       "      <td>...</td>\n",
       "      <td>...</td>\n",
       "      <td>...</td>\n",
       "      <td>...</td>\n",
       "      <td>...</td>\n",
       "      <td>...</td>\n",
       "      <td>...</td>\n",
       "      <td>...</td>\n",
       "      <td>...</td>\n",
       "    </tr>\n",
       "    <tr>\n",
       "      <th>249995</th>\n",
       "      <td>Mind &amp; Body</td>\n",
       "      <td>Episode 100</td>\n",
       "      <td>21.05</td>\n",
       "      <td>Health</td>\n",
       "      <td>65.77</td>\n",
       "      <td>Saturday</td>\n",
       "      <td>Evening</td>\n",
       "      <td>96.40</td>\n",
       "      <td>3.0</td>\n",
       "      <td>Negative</td>\n",
       "    </tr>\n",
       "    <tr>\n",
       "      <th>249996</th>\n",
       "      <td>Joke Junction</td>\n",
       "      <td>Episode 85</td>\n",
       "      <td>85.50</td>\n",
       "      <td>Comedy</td>\n",
       "      <td>41.47</td>\n",
       "      <td>Saturday</td>\n",
       "      <td>Night</td>\n",
       "      <td>30.52</td>\n",
       "      <td>2.0</td>\n",
       "      <td>Negative</td>\n",
       "    </tr>\n",
       "    <tr>\n",
       "      <th>249997</th>\n",
       "      <td>Joke Junction</td>\n",
       "      <td>Episode 63</td>\n",
       "      <td>12.11</td>\n",
       "      <td>Comedy</td>\n",
       "      <td>25.92</td>\n",
       "      <td>Thursday</td>\n",
       "      <td>Evening</td>\n",
       "      <td>73.69</td>\n",
       "      <td>1.0</td>\n",
       "      <td>Neutral</td>\n",
       "    </tr>\n",
       "    <tr>\n",
       "      <th>249998</th>\n",
       "      <td>Market Masters</td>\n",
       "      <td>Episode 46</td>\n",
       "      <td>113.46</td>\n",
       "      <td>Business</td>\n",
       "      <td>43.47</td>\n",
       "      <td>Friday</td>\n",
       "      <td>Night</td>\n",
       "      <td>93.59</td>\n",
       "      <td>3.0</td>\n",
       "      <td>Positive</td>\n",
       "    </tr>\n",
       "    <tr>\n",
       "      <th>249999</th>\n",
       "      <td>Brain Boost</td>\n",
       "      <td>Episode 46</td>\n",
       "      <td>78.05</td>\n",
       "      <td>Education</td>\n",
       "      <td>41.72</td>\n",
       "      <td>Friday</td>\n",
       "      <td>Morning</td>\n",
       "      <td>50.77</td>\n",
       "      <td>0.0</td>\n",
       "      <td>Negative</td>\n",
       "    </tr>\n",
       "  </tbody>\n",
       "</table>\n",
       "<p>250000 rows × 10 columns</p>\n",
       "</div>"
      ],
      "text/plain": [
       "               Podcast_Name Episode_Title  Episode_Length_minutes      Genre  \\\n",
       "0       Educational Nuggets    Episode 73                   78.96  Education   \n",
       "1               Sound Waves    Episode 23                   27.87      Music   \n",
       "2             Joke Junction    Episode 11                   69.10     Comedy   \n",
       "3             Comedy Corner    Episode 73                  115.39     Comedy   \n",
       "4              Life Lessons    Episode 50                   72.32  Lifestyle   \n",
       "...                     ...           ...                     ...        ...   \n",
       "249995          Mind & Body   Episode 100                   21.05     Health   \n",
       "249996        Joke Junction    Episode 85                   85.50     Comedy   \n",
       "249997        Joke Junction    Episode 63                   12.11     Comedy   \n",
       "249998       Market Masters    Episode 46                  113.46   Business   \n",
       "249999          Brain Boost    Episode 46                   78.05  Education   \n",
       "\n",
       "        Host_Popularity_percentage Publication_Day Publication_Time  \\\n",
       "0                            38.11        Saturday          Evening   \n",
       "1                            71.29          Sunday          Morning   \n",
       "2                            67.89          Friday          Evening   \n",
       "3                            23.40          Sunday          Morning   \n",
       "4                            58.10       Wednesday          Morning   \n",
       "...                            ...             ...              ...   \n",
       "249995                       65.77        Saturday          Evening   \n",
       "249996                       41.47        Saturday            Night   \n",
       "249997                       25.92        Thursday          Evening   \n",
       "249998                       43.47          Friday            Night   \n",
       "249999                       41.72          Friday          Morning   \n",
       "\n",
       "        Guest_Popularity_percentage  Number_of_Ads Episode_Sentiment  \n",
       "0                             53.33            1.0           Neutral  \n",
       "1                               NaN            0.0           Neutral  \n",
       "2                             97.51            0.0          Positive  \n",
       "3                             51.75            2.0          Positive  \n",
       "4                             11.30            2.0           Neutral  \n",
       "...                             ...            ...               ...  \n",
       "249995                        96.40            3.0          Negative  \n",
       "249996                        30.52            2.0          Negative  \n",
       "249997                        73.69            1.0           Neutral  \n",
       "249998                        93.59            3.0          Positive  \n",
       "249999                        50.77            0.0          Negative  \n",
       "\n",
       "[250000 rows x 10 columns]"
      ]
     },
     "execution_count": 43,
     "metadata": {},
     "output_type": "execute_result"
    }
   ],
   "source": [
    "X_prediction"
   ]
  },
  {
   "cell_type": "code",
   "execution_count": null,
   "metadata": {},
   "outputs": [],
   "source": []
  },
  {
   "cell_type": "code",
   "execution_count": 51,
   "metadata": {},
   "outputs": [
    {
     "data": {
      "text/plain": [
       "array([55.77718019, 18.64613682, 50.65566287, ...,  6.26581212,\n",
       "       75.25778717, 57.74948389])"
      ]
     },
     "execution_count": 51,
     "metadata": {},
     "output_type": "execute_result"
    }
   ],
   "source": [
    "X_prediction = df_test[config.features]\n",
    "y_prediction = model.predict(X_prediction, num_iteration=model.best_iteration)\n",
    "y_prediction"
   ]
  },
  {
   "cell_type": "code",
   "execution_count": 54,
   "metadata": {},
   "outputs": [],
   "source": [
    "df_submit = da.get_submit_data()\n",
    "df_submit.columns = df_submit.iloc[0]\n",
    "df_submit = df_submit.iloc[1:].reset_index(drop=True)\n",
    "\n",
    "df_submit[\"Listening_Time_minutes\"] = y_prediction\n",
    "df_submit.to_csv(f'submit_{config.exp_name}.csv', index=False)"
   ]
  },
  {
   "cell_type": "code",
   "execution_count": 57,
   "metadata": {},
   "outputs": [
    {
     "name": "stdout",
     "output_type": "stream",
     "text": [
      "kaggle.json\n"
     ]
    }
   ],
   "source": [
    "ls ~/.kaggle"
   ]
  },
  {
   "cell_type": "code",
   "execution_count": 59,
   "metadata": {},
   "outputs": [
    {
     "name": "stdout",
     "output_type": "stream",
     "text": [
      "/Users/takizawakeiya/Desktop/python/Takizawa-venv/lib/python3.9/site-packages/urllib3/__init__.py:35: NotOpenSSLWarning: urllib3 v2 only supports OpenSSL 1.1.1+, currently the 'ssl' module is compiled with 'LibreSSL 2.8.3'. See: https://github.com/urllib3/urllib3/issues/3020\n",
      "  warnings.warn(\n",
      "100%|███████████████████████████████████████| 6.01M/6.01M [00:28<00:00, 218kB/s]\n",
      "Successfully submitted to Predict Podcast Listening Time"
     ]
    }
   ],
   "source": [
    "!kaggle competitions submit -c playground-series-s5e4 -f submit_exp001.csv -m \"Initial submission\""
   ]
  },
  {
   "cell_type": "code",
   "execution_count": null,
   "metadata": {},
   "outputs": [],
   "source": []
  }
 ],
 "metadata": {
  "kernelspec": {
   "display_name": "Takizawa-venv",
   "language": "python",
   "name": "python3"
  },
  "language_info": {
   "codemirror_mode": {
    "name": "ipython",
    "version": 3
   },
   "file_extension": ".py",
   "mimetype": "text/x-python",
   "name": "python",
   "nbconvert_exporter": "python",
   "pygments_lexer": "ipython3",
   "version": "3.9.6"
  }
 },
 "nbformat": 4,
 "nbformat_minor": 2
}
